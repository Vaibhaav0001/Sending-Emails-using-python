{
 "cells": [
  {
   "cell_type": "code",
   "execution_count": 1,
   "metadata": {},
   "outputs": [],
   "source": [
    "import smtplib\n",
    "import getpass"
   ]
  },
  {
   "cell_type": "code",
   "execution_count": 5,
   "metadata": {},
   "outputs": [
    {
     "name": "stdout",
     "output_type": "stream",
     "text": [
      "enter the eamil from which you want to send: ········\n",
      "enter the password of sending email: ········\n",
      "enter to which email you want to send: ········\n",
      "enter the subject: hi\n",
      "enter the message: hello ji\n"
     ]
    },
    {
     "data": {
      "text/plain": [
       "(221, b'2.0.0 closing connection h8sm22645591pgr.43 - gsmtp')"
      ]
     },
     "execution_count": 5,
     "metadata": {},
     "output_type": "execute_result"
    }
   ],
   "source": [
    "smtp_object=smtplib.SMTP(\"smtp.gmail.com\",587)\n",
    "smtp_object.ehlo()\n",
    "smtp_object.starttls()\n",
    "fromemail=getpass.getpass(\"enter the eamil from which you want to send: \")\n",
    "password=getpass.getpass(\"enter the password of sending email: \")\n",
    "toemail=getpass.getpass(\"enter to which email you want to send: \")\n",
    "smtp_object.login(fromemail,password)\n",
    "subject=input(\"enter the subject: \")\n",
    "message=input(\"enter the message: \")\n",
    "msg=\"subject: \"+subject+\"\\n\"+message\n",
    "smtp_object.sendmail(fromemail,toemail,msg)\n",
    "smtp_object.quit()"
   ]
  },
  {
   "cell_type": "code",
   "execution_count": null,
   "metadata": {},
   "outputs": [],
   "source": []
  }
 ],
 "metadata": {
  "kernelspec": {
   "display_name": "Python 3",
   "language": "python",
   "name": "python3"
  },
  "language_info": {
   "codemirror_mode": {
    "name": "ipython",
    "version": 3
   },
   "file_extension": ".py",
   "mimetype": "text/x-python",
   "name": "python",
   "nbconvert_exporter": "python",
   "pygments_lexer": "ipython3",
   "version": "3.7.3"
  }
 },
 "nbformat": 4,
 "nbformat_minor": 2
}
